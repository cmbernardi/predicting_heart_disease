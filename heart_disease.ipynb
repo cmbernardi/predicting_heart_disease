{
  "nbformat": 4,
  "nbformat_minor": 0,
  "metadata": {
    "colab": {
      "name": "heart_disease.ipynb",
      "provenance": [],
      "collapsed_sections": [],
      "authorship_tag": "ABX9TyPyFlC15vRPdUWCpVjbZgCm",
      "include_colab_link": true
    },
    "kernelspec": {
      "name": "python3",
      "display_name": "Python 3"
    }
  },
  "cells": [
    {
      "cell_type": "markdown",
      "metadata": {
        "id": "view-in-github",
        "colab_type": "text"
      },
      "source": [
        "<a href=\"https://colab.research.google.com/github/cmbernardi/predicting_heart_disease/blob/master/heart_disease.ipynb\" target=\"_parent\"><img src=\"https://colab.research.google.com/assets/colab-badge.svg\" alt=\"Open In Colab\"/></a>"
      ]
    },
    {
      "cell_type": "markdown",
      "metadata": {
        "id": "hImQbu4aE7fJ",
        "colab_type": "text"
      },
      "source": [
        "# Predicting Heart Disease"
      ]
    },
    {
      "cell_type": "markdown",
      "metadata": {
        "id": "7f5R4dH7E_-8",
        "colab_type": "text"
      },
      "source": [
        "World Health Organization has estimated 12 million deaths occur worldwide, every year due to Heart diseases. Half of the deaths in the United States and other developed countries are due to cardio vascular diseases. The early prognosis of cardiovascular diseases can aid in making decisions on lifestyle changes in high risk patients and in turn reduce the complications. This project intends to point out the most relevant/risk factors of heart disease as well as predict the overall risk."
      ]
    },
    {
      "cell_type": "markdown",
      "metadata": {
        "id": "vAlJB5mNFlAy",
        "colab_type": "text"
      },
      "source": [
        "**Data Source:**\n",
        "The dataset is publically available on Kaggle website. The data is from an ongoing cardiovascular study on residents of the town of Framingham, Massachusetts. The classification goal is to predict whether the patient has 10-year risk of future coronary heart disease (CHD). The dataset provides the patients’ information including over 4,000 records and 15 attributes."
      ]
    },
    {
      "cell_type": "code",
      "metadata": {
        "id": "fyhCXHCEBkFW",
        "colab_type": "code",
        "colab": {}
      },
      "source": [
        "import pandas as pd\n",
        "import numpy as np\n",
        "import statsmodels.api as sm\n",
        "import scipy.stats as st\n",
        "import matplotlib.pyplot as plt\n",
        "import seaborn as sns\n",
        "from sklearn.metrics import confusion_matrix, accuracy_score, recall_score, f1_score, roc_auc_score"
      ],
      "execution_count": null,
      "outputs": []
    },
    {
      "cell_type": "code",
      "metadata": {
        "id": "374XZcw7FbuJ",
        "colab_type": "code",
        "colab": {
          "base_uri": "https://localhost:8080/",
          "height": 224
        },
        "outputId": "4f3bb058-97e0-47cb-fb52-addc656d8e7a"
      },
      "source": [
        "url = 'https://raw.githubusercontent.com/dphi-official/Datasets/master/framingham.csv'\n",
        "heart_df= pd.read_csv(url)\n",
        "heart_df.head()"
      ],
      "execution_count": null,
      "outputs": [
        {
          "output_type": "execute_result",
          "data": {
            "text/html": [
              "<div>\n",
              "<style scoped>\n",
              "    .dataframe tbody tr th:only-of-type {\n",
              "        vertical-align: middle;\n",
              "    }\n",
              "\n",
              "    .dataframe tbody tr th {\n",
              "        vertical-align: top;\n",
              "    }\n",
              "\n",
              "    .dataframe thead th {\n",
              "        text-align: right;\n",
              "    }\n",
              "</style>\n",
              "<table border=\"1\" class=\"dataframe\">\n",
              "  <thead>\n",
              "    <tr style=\"text-align: right;\">\n",
              "      <th></th>\n",
              "      <th>male</th>\n",
              "      <th>age</th>\n",
              "      <th>education</th>\n",
              "      <th>currentSmoker</th>\n",
              "      <th>cigsPerDay</th>\n",
              "      <th>BPMeds</th>\n",
              "      <th>prevalentStroke</th>\n",
              "      <th>prevalentHyp</th>\n",
              "      <th>diabetes</th>\n",
              "      <th>totChol</th>\n",
              "      <th>sysBP</th>\n",
              "      <th>diaBP</th>\n",
              "      <th>BMI</th>\n",
              "      <th>heartRate</th>\n",
              "      <th>glucose</th>\n",
              "      <th>TenYearCHD</th>\n",
              "    </tr>\n",
              "  </thead>\n",
              "  <tbody>\n",
              "    <tr>\n",
              "      <th>0</th>\n",
              "      <td>1</td>\n",
              "      <td>39</td>\n",
              "      <td>4.0</td>\n",
              "      <td>0</td>\n",
              "      <td>0.0</td>\n",
              "      <td>0.0</td>\n",
              "      <td>0</td>\n",
              "      <td>0</td>\n",
              "      <td>0</td>\n",
              "      <td>195.0</td>\n",
              "      <td>106.0</td>\n",
              "      <td>70.0</td>\n",
              "      <td>26.97</td>\n",
              "      <td>80.0</td>\n",
              "      <td>77.0</td>\n",
              "      <td>0</td>\n",
              "    </tr>\n",
              "    <tr>\n",
              "      <th>1</th>\n",
              "      <td>0</td>\n",
              "      <td>46</td>\n",
              "      <td>2.0</td>\n",
              "      <td>0</td>\n",
              "      <td>0.0</td>\n",
              "      <td>0.0</td>\n",
              "      <td>0</td>\n",
              "      <td>0</td>\n",
              "      <td>0</td>\n",
              "      <td>250.0</td>\n",
              "      <td>121.0</td>\n",
              "      <td>81.0</td>\n",
              "      <td>28.73</td>\n",
              "      <td>95.0</td>\n",
              "      <td>76.0</td>\n",
              "      <td>0</td>\n",
              "    </tr>\n",
              "    <tr>\n",
              "      <th>2</th>\n",
              "      <td>1</td>\n",
              "      <td>48</td>\n",
              "      <td>1.0</td>\n",
              "      <td>1</td>\n",
              "      <td>20.0</td>\n",
              "      <td>0.0</td>\n",
              "      <td>0</td>\n",
              "      <td>0</td>\n",
              "      <td>0</td>\n",
              "      <td>245.0</td>\n",
              "      <td>127.5</td>\n",
              "      <td>80.0</td>\n",
              "      <td>25.34</td>\n",
              "      <td>75.0</td>\n",
              "      <td>70.0</td>\n",
              "      <td>0</td>\n",
              "    </tr>\n",
              "    <tr>\n",
              "      <th>3</th>\n",
              "      <td>0</td>\n",
              "      <td>61</td>\n",
              "      <td>3.0</td>\n",
              "      <td>1</td>\n",
              "      <td>30.0</td>\n",
              "      <td>0.0</td>\n",
              "      <td>0</td>\n",
              "      <td>1</td>\n",
              "      <td>0</td>\n",
              "      <td>225.0</td>\n",
              "      <td>150.0</td>\n",
              "      <td>95.0</td>\n",
              "      <td>28.58</td>\n",
              "      <td>65.0</td>\n",
              "      <td>103.0</td>\n",
              "      <td>1</td>\n",
              "    </tr>\n",
              "    <tr>\n",
              "      <th>4</th>\n",
              "      <td>0</td>\n",
              "      <td>46</td>\n",
              "      <td>3.0</td>\n",
              "      <td>1</td>\n",
              "      <td>23.0</td>\n",
              "      <td>0.0</td>\n",
              "      <td>0</td>\n",
              "      <td>0</td>\n",
              "      <td>0</td>\n",
              "      <td>285.0</td>\n",
              "      <td>130.0</td>\n",
              "      <td>84.0</td>\n",
              "      <td>23.10</td>\n",
              "      <td>85.0</td>\n",
              "      <td>85.0</td>\n",
              "      <td>0</td>\n",
              "    </tr>\n",
              "  </tbody>\n",
              "</table>\n",
              "</div>"
            ],
            "text/plain": [
              "   male  age  education  currentSmoker  ...    BMI  heartRate  glucose  TenYearCHD\n",
              "0     1   39        4.0              0  ...  26.97       80.0     77.0           0\n",
              "1     0   46        2.0              0  ...  28.73       95.0     76.0           0\n",
              "2     1   48        1.0              1  ...  25.34       75.0     70.0           0\n",
              "3     0   61        3.0              1  ...  28.58       65.0    103.0           1\n",
              "4     0   46        3.0              1  ...  23.10       85.0     85.0           0\n",
              "\n",
              "[5 rows x 16 columns]"
            ]
          },
          "metadata": {
            "tags": []
          },
          "execution_count": 20
        }
      ]
    },
    {
      "cell_type": "markdown",
      "metadata": {
        "id": "m-k90QP1iKMx",
        "colab_type": "text"
      },
      "source": [
        "### Variables :\n",
        "Each attribute is a potential risk factor. There are both demographic, behavioural and medical risk factors.\n",
        "\n",
        "- Demographic: \n",
        "  - sex: male or female;(1 = male; 0 = female)\n",
        "\n",
        "  - age: age of the patient;(Continuous - Although the recorded ages have been truncated to whole numbers, the concept of age is continuous)\n",
        "\n",
        "- Behavioural:\n",
        "\n",
        "  - currentSmoker: whether or not the patient is a current smoker (0 = nonsmoker; 1 = smoker)\n",
        "\n",
        "  - cigsPerDay: the number of cigarettes that the person smoked on average in one day.(can be considered continuous as one can have any number of cigarretts, even half a cigarette.)\n",
        "\n",
        "- Medical(history):\n",
        "\n",
        "  - BPMeds: whether or not the patient was on blood pressure medication (0 = No; 1 = Yes)\n",
        "\n",
        "  - prevalentStroke: whether or not the patient had previously had a stroke (0 = No; 1 = Yes)\n",
        "\n",
        "  - prevalentHyp: whether or not the patient was hypertensive (0 = No; 1 = Yes)\n",
        "\n",
        "  - diabetes: whether or not the patient had diabetes (0 = No; 1 = Yes)\n",
        "\n",
        "- Medical(current):\n",
        "\n",
        "  - totChol: total cholesterol level (Continuous)\n",
        "\n",
        "  - sysBP: systolic blood pressure (Continuous)\n",
        "\n",
        "  - diaBP: diastolic blood pressure (Continuous)\n",
        "\n",
        "  - BMI: Body Mass Index (Continuous)\n",
        "\n",
        "  - heartRate: heart rate (Continuous - In medical research, variables such as heart rate though in fact discrete, yet are considered continuous because of large number of possible values.)\n",
        "\n",
        "  - glucose: glucose level (Continuous)\n",
        "\n",
        "- Predict variable (desired target):\n",
        "\n",
        "  - 10 year risk of coronary heart disease CHD (1 = Yes; 0 = No)\n"
      ]
    },
    {
      "cell_type": "markdown",
      "metadata": {
        "id": "lFmbcXkbjdIn",
        "colab_type": "text"
      },
      "source": [
        "## Data Cleaning"
      ]
    },
    {
      "cell_type": "code",
      "metadata": {
        "id": "0Y8cSdXoGCuP",
        "colab_type": "code",
        "colab": {
          "base_uri": "https://localhost:8080/",
          "height": 306
        },
        "outputId": "7bd58d61-e349-4304-f1b4-9fd04e772d58"
      },
      "source": [
        "# missing values\n",
        "\n",
        "heart_df.isnull().sum()"
      ],
      "execution_count": null,
      "outputs": [
        {
          "output_type": "execute_result",
          "data": {
            "text/plain": [
              "male                 0\n",
              "age                  0\n",
              "education          105\n",
              "currentSmoker        0\n",
              "cigsPerDay          29\n",
              "BPMeds              53\n",
              "prevalentStroke      0\n",
              "prevalentHyp         0\n",
              "diabetes             0\n",
              "totChol             50\n",
              "sysBP                0\n",
              "diaBP                0\n",
              "BMI                 19\n",
              "heartRate            1\n",
              "glucose            388\n",
              "TenYearCHD           0\n",
              "dtype: int64"
            ]
          },
          "metadata": {
            "tags": []
          },
          "execution_count": 21
        }
      ]
    },
    {
      "cell_type": "code",
      "metadata": {
        "id": "n0Yk44pOjibZ",
        "colab_type": "code",
        "colab": {
          "base_uri": "https://localhost:8080/",
          "height": 51
        },
        "outputId": "f19def7c-bffe-481a-8f0c-faf6c96cf78a"
      },
      "source": [
        "count=0\n",
        "for i in heart_df.isnull().sum(axis=1):\n",
        "    if i>0:\n",
        "        count=count+1\n",
        "print('Total number of rows with missing values is ', count)\n",
        "print('since it is only',round((count/len(heart_df.index))*100), 'percent of the entire dataset the rows with missing values are excluded.')"
      ],
      "execution_count": null,
      "outputs": [
        {
          "output_type": "stream",
          "text": [
            "Total number of rows with missing values is  582\n",
            "since it is only 14 percent of the entire dataset the rows with missing values are excluded.\n"
          ],
          "name": "stdout"
        }
      ]
    },
    {
      "cell_type": "code",
      "metadata": {
        "id": "4tzkKGFFofP8",
        "colab_type": "code",
        "colab": {}
      },
      "source": [
        "heart_df.dropna(axis=0,inplace=True)"
      ],
      "execution_count": null,
      "outputs": []
    },
    {
      "cell_type": "markdown",
      "metadata": {
        "id": "gMDut42torYm",
        "colab_type": "text"
      },
      "source": [
        "## Exploring the Data"
      ]
    },
    {
      "cell_type": "code",
      "metadata": {
        "id": "36V_j-eiofux",
        "colab_type": "code",
        "colab": {
          "base_uri": "https://localhost:8080/",
          "height": 68
        },
        "outputId": "7c8ad3fb-833b-4cb6-d2d7-426b8916c608"
      },
      "source": [
        "heart_df.TenYearCHD.value_counts()"
      ],
      "execution_count": null,
      "outputs": [
        {
          "output_type": "execute_result",
          "data": {
            "text/plain": [
              "0    3101\n",
              "1     557\n",
              "Name: TenYearCHD, dtype: int64"
            ]
          },
          "metadata": {
            "tags": []
          },
          "execution_count": 7
        }
      ]
    },
    {
      "cell_type": "code",
      "metadata": {
        "id": "BMVLlZl1pJGN",
        "colab_type": "code",
        "colab": {
          "base_uri": "https://localhost:8080/",
          "height": 296
        },
        "outputId": "ec237b34-8704-4686-e6e2-82aa79f6be9c"
      },
      "source": [
        "sns.countplot(x='TenYearCHD',data=heart_df)"
      ],
      "execution_count": null,
      "outputs": [
        {
          "output_type": "execute_result",
          "data": {
            "text/plain": [
              "<matplotlib.axes._subplots.AxesSubplot at 0x7f304fbb41d0>"
            ]
          },
          "metadata": {
            "tags": []
          },
          "execution_count": 8
        },
        {
          "output_type": "display_data",
          "data": {
            "image/png": "[encoded data removed]",
            "text/plain": [
              "<Figure size 432x288 with 1 Axes>"
            ]
          },
          "metadata": {
            "tags": [],
            "needs_background": "light"
          }
        }
      ]
    },
    {
      "cell_type": "markdown",
      "metadata": {
        "id": "MCviZhuYwx5q",
        "colab_type": "text"
      },
      "source": [
        "There are 3101 patents with no heart disease and 557 patients with risk of heart disease."
      ]
    },
    {
      "cell_type": "code",
      "metadata": {
        "id": "t5Ap0SC3qcWu",
        "colab_type": "code",
        "colab": {
          "base_uri": "https://localhost:8080/",
          "height": 431
        },
        "outputId": "eb117cc5-4053-4dfc-fe75-cb69d2f304d3"
      },
      "source": [
        "plt.figure(figsize=(16, 8))\n",
        "\n",
        "# sex\n",
        "plt.subplot(2, 3, 1)\n",
        "sns.countplot(x='TenYearCHD',data=heart_df, hue='male')\n",
        "\n",
        "# smoker\n",
        "plt.subplot(2, 3, 2)\n",
        "sns.countplot(x='TenYearCHD',data=heart_df, hue='currentSmoker')\n",
        "\n",
        "# on blood pressure medication\n",
        "plt.subplot(2, 3, 3)\n",
        "sns.countplot(x='TenYearCHD',data=heart_df, hue='BPMeds')\n",
        "\n",
        "# had a stroke\n",
        "plt.subplot(2, 3, 4)\n",
        "sns.countplot(x='TenYearCHD',data=heart_df, hue='prevalentStroke')\n",
        "\n",
        "# hypertensive\n",
        "plt.subplot(2, 3, 5)\n",
        "sns.countplot(x='TenYearCHD',data=heart_df, hue='prevalentHyp')\n",
        "\n",
        "# had diabetes\n",
        "plt.subplot(2, 3, 6)\n",
        "sns.countplot(x='TenYearCHD',data=heart_df, hue='diabetes')\n"
      ],
      "execution_count": null,
      "outputs": [
        {
          "output_type": "execute_result",
          "data": {
            "text/plain": [
              "<matplotlib.axes._subplots.AxesSubplot at 0x7f304f4ac5c0>"
            ]
          },
          "metadata": {
            "tags": []
          },
          "execution_count": 9
        },
        {
          "output_type": "display_data",
          "data": {
            "image/png": "[encoded data removed]",
            "text/plain": [
              "<Figure size 1152x576 with 6 Axes>"
            ]
          },
          "metadata": {
            "tags": [],
            "needs_background": "light"
          }
        }
      ]
    },
    {
      "cell_type": "markdown",
      "metadata": {
        "id": "xzLMh3xDxB8G",
        "colab_type": "text"
      },
      "source": [
        "- It looks like men have more chances to develop heart disease.\n",
        "- Smoking and hypertension also seem to have an influence on developing heart disease (especially hypertension). "
      ]
    },
    {
      "cell_type": "code",
      "metadata": {
        "id": "jON6ORniq70x",
        "colab_type": "code",
        "colab": {
          "base_uri": "https://localhost:8080/",
          "height": 806
        },
        "outputId": "4b968b98-1898-4ff5-b0c4-588892f8d7ba"
      },
      "source": [
        "\n",
        "def draw_histograms(dataframe, features, rows, cols):\n",
        "    fig=plt.figure(figsize=(20,20))\n",
        "    for i, feature in enumerate(features):\n",
        "        ax=fig.add_subplot(rows,cols,i+1)\n",
        "        dataframe[feature].hist(bins=20,ax=ax)\n",
        "        ax.set_title(feature+\" Distribution\",color='DarkRed')\n",
        "        \n",
        "    fig.tight_layout()  \n",
        "    plt.show()\n",
        "draw_histograms(heart_df,heart_df.columns,4,4)"
      ],
      "execution_count": null,
      "outputs": [
        {
          "output_type": "display_data",
          "data": {
            "image/png": "[encoded data removed]",
            "text/plain": [
              "<Figure size 1440x1440 with 16 Axes>"
            ]
          },
          "metadata": {
            "tags": [],
            "needs_background": "light"
          }
        }
      ]
    },
    {
      "cell_type": "markdown",
      "metadata": {
        "id": "ebvvHp7g73Ck",
        "colab_type": "text"
      },
      "source": [
        ""
      ]
    },
    {
      "cell_type": "markdown",
      "metadata": {
        "id": "BW8HElXjEjoA",
        "colab_type": "text"
      },
      "source": [
        "## Splitting the data"
      ]
    },
    {
      "cell_type": "code",
      "metadata": {
        "id": "TCP4tWy4AYYd",
        "colab_type": "code",
        "colab": {}
      },
      "source": [
        "import sklearn\n",
        "\n",
        "x = heart_df.drop('TenYearCHD', axis=1)\n",
        "y = heart_df.TenYearCHD\n",
        "\n",
        "from sklearn.model_selection import train_test_split\n",
        "x_train,x_test,y_train,y_test=train_test_split(x,y,test_size=.20,random_state=5)\n"
      ],
      "execution_count": null,
      "outputs": []
    },
    {
      "cell_type": "markdown",
      "metadata": {
        "id": "Ddaw6ix5kHWp",
        "colab_type": "text"
      },
      "source": [
        "## Feature Selection and Logistic Regression Model"
      ]
    },
    {
      "cell_type": "code",
      "metadata": {
        "id": "LNSjzUQkMgxH",
        "colab_type": "code",
        "colab": {
          "base_uri": "https://localhost:8080/",
          "height": 85
        },
        "outputId": "89871068-b6ef-4955-f77a-1fdaf08c23cf"
      },
      "source": [
        "from sklearn.linear_model import LogisticRegression\n",
        "model = LogisticRegression(max_iter=10000)  \n",
        "\n",
        "from sklearn.feature_selection import RFE\n",
        "\n",
        "rfe = RFE(estimator= model , step = 1)\n",
        "\n",
        "fit = rfe.fit(x_train, y_train)\n",
        "\n",
        "print(\"Num Features: %d\" % fit.n_features_)\n",
        "print(\"Selected Features: %s\" % fit.support_)\n",
        "print(\"Feature Ranking: %s\" % fit.ranking_)"
      ],
      "execution_count": null,
      "outputs": [
        {
          "output_type": "stream",
          "text": [
            "Num Features: 7\n",
            "Selected Features: [ True  True False  True False  True  True  True  True False False False\n",
            " False False False]\n",
            "Feature Ranking: [1 1 2 1 4 1 1 1 1 8 5 7 3 9 6]\n"
          ],
          "name": "stdout"
        }
      ]
    },
    {
      "cell_type": "code",
      "metadata": {
        "id": "2YBErKaWhvu4",
        "colab_type": "code",
        "colab": {
          "base_uri": "https://localhost:8080/",
          "height": 514
        },
        "outputId": "7a9d59bc-c956-4011-ee54-c308243fe98c"
      },
      "source": [
        "selected_rfe_features = pd.DataFrame({'Feature':list(x_train.columns),\n",
        "                                      'Ranking':rfe.ranking_})\n",
        "selected_rfe_features.sort_values(by='Ranking')"
      ],
      "execution_count": null,
      "outputs": [
        {
          "output_type": "execute_result",
          "data": {
            "text/html": [
              "<div>\n",
              "<style scoped>\n",
              "    .dataframe tbody tr th:only-of-type {\n",
              "        vertical-align: middle;\n",
              "    }\n",
              "\n",
              "    .dataframe tbody tr th {\n",
              "        vertical-align: top;\n",
              "    }\n",
              "\n",
              "    .dataframe thead th {\n",
              "        text-align: right;\n",
              "    }\n",
              "</style>\n",
              "<table border=\"1\" class=\"dataframe\">\n",
              "  <thead>\n",
              "    <tr style=\"text-align: right;\">\n",
              "      <th></th>\n",
              "      <th>Feature</th>\n",
              "      <th>Ranking</th>\n",
              "    </tr>\n",
              "  </thead>\n",
              "  <tbody>\n",
              "    <tr>\n",
              "      <th>0</th>\n",
              "      <td>male</td>\n",
              "      <td>1</td>\n",
              "    </tr>\n",
              "    <tr>\n",
              "      <th>1</th>\n",
              "      <td>age</td>\n",
              "      <td>1</td>\n",
              "    </tr>\n",
              "    <tr>\n",
              "      <th>3</th>\n",
              "      <td>currentSmoker</td>\n",
              "      <td>1</td>\n",
              "    </tr>\n",
              "    <tr>\n",
              "      <th>5</th>\n",
              "      <td>BPMeds</td>\n",
              "      <td>1</td>\n",
              "    </tr>\n",
              "    <tr>\n",
              "      <th>6</th>\n",
              "      <td>prevalentStroke</td>\n",
              "      <td>1</td>\n",
              "    </tr>\n",
              "    <tr>\n",
              "      <th>7</th>\n",
              "      <td>prevalentHyp</td>\n",
              "      <td>1</td>\n",
              "    </tr>\n",
              "    <tr>\n",
              "      <th>8</th>\n",
              "      <td>diabetes</td>\n",
              "      <td>1</td>\n",
              "    </tr>\n",
              "    <tr>\n",
              "      <th>2</th>\n",
              "      <td>education</td>\n",
              "      <td>2</td>\n",
              "    </tr>\n",
              "    <tr>\n",
              "      <th>12</th>\n",
              "      <td>BMI</td>\n",
              "      <td>3</td>\n",
              "    </tr>\n",
              "    <tr>\n",
              "      <th>4</th>\n",
              "      <td>cigsPerDay</td>\n",
              "      <td>4</td>\n",
              "    </tr>\n",
              "    <tr>\n",
              "      <th>10</th>\n",
              "      <td>sysBP</td>\n",
              "      <td>5</td>\n",
              "    </tr>\n",
              "    <tr>\n",
              "      <th>14</th>\n",
              "      <td>glucose</td>\n",
              "      <td>6</td>\n",
              "    </tr>\n",
              "    <tr>\n",
              "      <th>11</th>\n",
              "      <td>diaBP</td>\n",
              "      <td>7</td>\n",
              "    </tr>\n",
              "    <tr>\n",
              "      <th>9</th>\n",
              "      <td>totChol</td>\n",
              "      <td>8</td>\n",
              "    </tr>\n",
              "    <tr>\n",
              "      <th>13</th>\n",
              "      <td>heartRate</td>\n",
              "      <td>9</td>\n",
              "    </tr>\n",
              "  </tbody>\n",
              "</table>\n",
              "</div>"
            ],
            "text/plain": [
              "            Feature  Ranking\n",
              "0              male        1\n",
              "1               age        1\n",
              "3     currentSmoker        1\n",
              "5            BPMeds        1\n",
              "6   prevalentStroke        1\n",
              "7      prevalentHyp        1\n",
              "8          diabetes        1\n",
              "2         education        2\n",
              "12              BMI        3\n",
              "4        cigsPerDay        4\n",
              "10            sysBP        5\n",
              "14          glucose        6\n",
              "11            diaBP        7\n",
              "9           totChol        8\n",
              "13        heartRate        9"
            ]
          },
          "metadata": {
            "tags": []
          },
          "execution_count": 41
        }
      ]
    },
    {
      "cell_type": "code",
      "metadata": {
        "id": "hbG4ZGdgiKqy",
        "colab_type": "code",
        "colab": {}
      },
      "source": [
        "# Transforming the data\n",
        "x_train_rfe = rfe.transform(x_train)\n",
        "x_test_rfe = rfe.transform(x_test)\n",
        "\n",
        "# Fitting our baseline model with the transformed data\n",
        "model_rfe = model.fit(x_train_rfe, y_train)"
      ],
      "execution_count": null,
      "outputs": []
    },
    {
      "cell_type": "markdown",
      "metadata": {
        "id": "xOPclGsiJmzD",
        "colab_type": "text"
      },
      "source": [
        "## Evaluating the performance"
      ]
    },
    {
      "cell_type": "code",
      "metadata": {
        "id": "okJxCzqFHTUY",
        "colab_type": "code",
        "colab": {
          "base_uri": "https://localhost:8080/",
          "height": 34
        },
        "outputId": "90e9c882-6513-4c80-bbeb-d32db426b13e"
      },
      "source": [
        "predicted = model_rfe.predict(x_test_rfe)\n",
        "\n",
        "model_rfe_ac = accuracy_score(y_test, predicted)\n",
        "\n",
        "print(\"RFE Model Accuracy:\", model_rfe_ac)"
      ],
      "execution_count": null,
      "outputs": [
        {
          "output_type": "stream",
          "text": [
            "RFE Model Accuracy: 0.8565573770491803\n"
          ],
          "name": "stdout"
        }
      ]
    },
    {
      "cell_type": "code",
      "metadata": {
        "id": "D_NAHWrgII_b",
        "colab_type": "code",
        "colab": {
          "base_uri": "https://localhost:8080/",
          "height": 337
        },
        "outputId": "6fc05366-fa3f-4edb-ba59-be0b5a19c1dc"
      },
      "source": [
        "# confusion matrix\n",
        "\n",
        "cm=confusion_matrix(y_test,predicted)\n",
        "conf_matrix=pd.DataFrame(data=cm,columns=['Predicted:0','Predicted:1'],index=['Actual:0','Actual:1'])\n",
        "plt.figure(figsize = (8,5))\n",
        "sns.heatmap(conf_matrix, annot=True,fmt='d',cmap=\"YlGnBu\")"
      ],
      "execution_count": null,
      "outputs": [
        {
          "output_type": "execute_result",
          "data": {
            "text/plain": [
              "<matplotlib.axes._subplots.AxesSubplot at 0x7f304ed3d278>"
            ]
          },
          "metadata": {
            "tags": []
          },
          "execution_count": 53
        },
        {
          "output_type": "display_data",
          "data": {
            "image/png": "[encoded data removed]",
            "text/plain": [
              "<Figure size 576x360 with 2 Axes>"
            ]
          },
          "metadata": {
            "tags": [],
            "needs_background": "light"
          }
        }
      ]
    },
    {
      "cell_type": "markdown",
      "metadata": {
        "id": "HVNR35HXkhf9",
        "colab_type": "text"
      },
      "source": [
        "The confusion matrix shows 625+2 = 627 correct predictions and 102+3= 105 incorrect ones.\n",
        "\n",
        "- True Positives: 2\n",
        "\n",
        "- True Negatives: 625\n",
        "\n",
        "- False Positives: 3 (Type I error)\n",
        "\n",
        "- False Negatives: 102 ( Type II error)"
      ]
    },
    {
      "cell_type": "code",
      "metadata": {
        "id": "_CRWCgTjIiEP",
        "colab_type": "code",
        "colab": {}
      },
      "source": [
        "TN=cm[0,0]\n",
        "TP=cm[1,1]\n",
        "FN=cm[1,0]\n",
        "FP=cm[0,1]\n",
        "sensitivity=TP/float(TP+FN)\n",
        "specificity=TN/float(TN+FP)"
      ],
      "execution_count": null,
      "outputs": []
    },
    {
      "cell_type": "code",
      "metadata": {
        "id": "zFdBp50AIuNS",
        "colab_type": "code",
        "colab": {
          "base_uri": "https://localhost:8080/",
          "height": 272
        },
        "outputId": "14335075-cea6-4234-f4a4-49641c6025ac"
      },
      "source": [
        "print('The acuuracy of the model = TP+TN/(TP+TN+FP+FN) = ',(TP+TN)/float(TP+TN+FP+FN),'\\n',\n",
        "      \n",
        "      '     ***********************************************\\n'\n",
        "\n",
        "'The Missclassification = 1-Accuracy = ',1-((TP+TN)/float(TP+TN+FP+FN)),'\\n',\n",
        "\n",
        "'     ***********************************************\\n'\n",
        "\n",
        "'Sensitivity or True Positive Rate = TP/(TP+FN) = ',TP/float(TP+FN),'\\n',\n",
        "\n",
        "'     ***********************************************\\n'\n",
        "\n",
        "'Specificity or True Negative Rate = TN/(TN+FP) = ',TN/float(TN+FP),'\\n',\n",
        "\n",
        "'     ***********************************************\\n'\n",
        "\n",
        "'Positive Predictive value = TP/(TP+FP) = ',TP/float(TP+FP),'\\n',\n",
        "\n",
        "'     ***********************************************\\n'\n",
        "\n",
        "'Negative predictive Value = TN/(TN+FN) = ',TN/float(TN+FN),'\\n',\n",
        "\n",
        "'     ***********************************************\\n'\n",
        "\n",
        "'Positive Likelihood Ratio = Sensitivity/(1-Specificity) = ',sensitivity/(1-specificity),'\\n',\n",
        "\n",
        "'     ***********************************************\\n'\n",
        "\n",
        "'Negative likelihood Ratio = (1-Sensitivity)/Specificity = ',(1-sensitivity)/specificity)"
      ],
      "execution_count": null,
      "outputs": [
        {
          "output_type": "stream",
          "text": [
            "The acuuracy of the model = TP+TN/(TP+TN+FP+FN) =  0.8565573770491803 \n",
            "      ***********************************************\n",
            "The Missclassification = 1-Accuracy =  0.14344262295081966 \n",
            "      ***********************************************\n",
            "Sensitivity or True Positive Rate = TP/(TP+FN) =  0.019230769230769232 \n",
            "      ***********************************************\n",
            "Specificity or True Negative Rate = TN/(TN+FP) =  0.9952229299363057 \n",
            "      ***********************************************\n",
            "Positive Predictive value = TP/(TP+FP) =  0.4 \n",
            "      ***********************************************\n",
            "Negative predictive Value = TN/(TN+FN) =  0.859697386519945 \n",
            "      ***********************************************\n",
            "Positive Likelihood Ratio = Sensitivity/(1-Specificity) =  4.02564102564098 \n",
            "      ***********************************************\n",
            "Negative likelihood Ratio = (1-Sensitivity)/Specificity =  0.9854769230769231\n"
          ],
          "name": "stdout"
        }
      ]
    },
    {
      "cell_type": "markdown",
      "metadata": {
        "id": "OjcMGMSrJO75",
        "colab_type": "text"
      },
      "source": [
        "From the above statistics it is clear that the model is more specific than sensitive. The negative values are predicted more accurately than the positives.\n",
        "\n",
        "A common way to visualize the trade-offs of different thresholds is by using an ROC curve, a plot of the true positive rate (true positives/ total positives) versus the false positive rate (false positives / total negatives) for all possible choices of thresholds. A model with good classification accuracy should have significantly more true positives than false positives at all thresholds.\n",
        "\n",
        "The optimum position for roc curve is towards the top left corner where the specificity and sensitivity are at optimum levels."
      ]
    },
    {
      "cell_type": "markdown",
      "metadata": {
        "id": "K9ilrZLDJ4ON",
        "colab_type": "text"
      },
      "source": [
        "## **Predicted probabilities of 0 (No Coronary Heart Disease) and 1 ( Coronary Heart Disease: Yes) for the test data with a default classification threshold of 0.5**"
      ]
    },
    {
      "cell_type": "code",
      "metadata": {
        "id": "jZVB4h8jI4mN",
        "colab_type": "code",
        "colab": {
          "base_uri": "https://localhost:8080/",
          "height": 204
        },
        "outputId": "fb127fb0-bd69-4bbc-898d-031db6848999"
      },
      "source": [
        "y_pred_prob = model.predict_proba(x_test_rfe)[:,:]\n",
        "y_pred_prob_df = pd.DataFrame(data=y_pred_prob, columns=['Prob of no heart disease (0)','Prob of Heart Disease (1)'])\n",
        "y_pred_prob_df.head()"
      ],
      "execution_count": null,
      "outputs": [
        {
          "output_type": "execute_result",
          "data": {
            "text/html": [
              "<div>\n",
              "<style scoped>\n",
              "    .dataframe tbody tr th:only-of-type {\n",
              "        vertical-align: middle;\n",
              "    }\n",
              "\n",
              "    .dataframe tbody tr th {\n",
              "        vertical-align: top;\n",
              "    }\n",
              "\n",
              "    .dataframe thead th {\n",
              "        text-align: right;\n",
              "    }\n",
              "</style>\n",
              "<table border=\"1\" class=\"dataframe\">\n",
              "  <thead>\n",
              "    <tr style=\"text-align: right;\">\n",
              "      <th></th>\n",
              "      <th>Prob of no heart disease (0)</th>\n",
              "      <th>Prob of Heart Disease (1)</th>\n",
              "    </tr>\n",
              "  </thead>\n",
              "  <tbody>\n",
              "    <tr>\n",
              "      <th>0</th>\n",
              "      <td>0.967356</td>\n",
              "      <td>0.032644</td>\n",
              "    </tr>\n",
              "    <tr>\n",
              "      <th>1</th>\n",
              "      <td>0.962392</td>\n",
              "      <td>0.037608</td>\n",
              "    </tr>\n",
              "    <tr>\n",
              "      <th>2</th>\n",
              "      <td>0.625000</td>\n",
              "      <td>0.375000</td>\n",
              "    </tr>\n",
              "    <tr>\n",
              "      <th>3</th>\n",
              "      <td>0.863939</td>\n",
              "      <td>0.136061</td>\n",
              "    </tr>\n",
              "    <tr>\n",
              "      <th>4</th>\n",
              "      <td>0.849355</td>\n",
              "      <td>0.150645</td>\n",
              "    </tr>\n",
              "  </tbody>\n",
              "</table>\n",
              "</div>"
            ],
            "text/plain": [
              "   Prob of no heart disease (0)  Prob of Heart Disease (1)\n",
              "0                      0.967356                   0.032644\n",
              "1                      0.962392                   0.037608\n",
              "2                      0.625000                   0.375000\n",
              "3                      0.863939                   0.136061\n",
              "4                      0.849355                   0.150645"
            ]
          },
          "metadata": {
            "tags": []
          },
          "execution_count": 59
        }
      ]
    },
    {
      "cell_type": "markdown",
      "metadata": {
        "id": "694piaiqLvMd",
        "colab_type": "text"
      },
      "source": [
        "## **Lower the threshold**\n",
        "Since the model is predicting Heart disease too many type II errors is not advisable. A False Negative (ignoring the probability of disease when there actually is one) is more dangerous than a False Positive in this case. Hence, to increase the sensitivity, the threshold can be lowered."
      ]
    },
    {
      "cell_type": "code",
      "metadata": {
        "id": "dvo0XsoJKOVL",
        "colab_type": "code",
        "colab": {
          "base_uri": "https://localhost:8080/",
          "height": 629
        },
        "outputId": "24abb09f-1658-49ad-9fe9-13779901be0b"
      },
      "source": [
        "from sklearn.preprocessing import binarize\n",
        "for i in range(1,5):\n",
        "    cm2=0\n",
        "    y_pred_prob_yes = model.predict_proba(x_test_rfe)\n",
        "    y_pred2 = binarize(y_pred_prob_yes,i/10)[:,1]\n",
        "    cm2 = confusion_matrix(y_test,y_pred2)\n",
        "    print ('With',i/10,'threshold the Confusion Matrix is ','\\n',cm2,'\\n',\n",
        "            'with',cm2[0,0]+cm2[1,1],'correct predictions and',cm2[1,0],'Type II errors( False Negatives)','\\n\\n',\n",
        "          'Sensitivity: ',cm2[1,1]/(float(cm2[1,1]+cm2[1,0])),'Specificity: ',cm2[0,0]/(float(cm2[0,0]+cm2[0,1])),'\\n\\n\\n')"
      ],
      "execution_count": null,
      "outputs": [
        {
          "output_type": "stream",
          "text": [
            "With 0.1 threshold the Confusion Matrix is  \n",
            " [[300 328]\n",
            " [ 19  85]] \n",
            " with 385 correct predictions and 19 Type II errors( False Negatives) \n",
            "\n",
            " Sensitivity:  0.8173076923076923 Specificity:  0.47770700636942676 \n",
            "\n",
            "\n",
            "\n",
            "With 0.2 threshold the Confusion Matrix is  \n",
            " [[493 135]\n",
            " [ 48  56]] \n",
            " with 549 correct predictions and 48 Type II errors( False Negatives) \n",
            "\n",
            " Sensitivity:  0.5384615384615384 Specificity:  0.785031847133758 \n",
            "\n",
            "\n",
            "\n",
            "With 0.3 threshold the Confusion Matrix is  \n",
            " [[576  52]\n",
            " [ 81  23]] \n",
            " with 599 correct predictions and 81 Type II errors( False Negatives) \n",
            "\n",
            " Sensitivity:  0.22115384615384615 Specificity:  0.9171974522292994 \n",
            "\n",
            "\n",
            "\n",
            "With 0.4 threshold the Confusion Matrix is  \n",
            " [[614  14]\n",
            " [ 96   8]] \n",
            " with 622 correct predictions and 96 Type II errors( False Negatives) \n",
            "\n",
            " Sensitivity:  0.07692307692307693 Specificity:  0.9777070063694268 \n",
            "\n",
            "\n",
            "\n"
          ],
          "name": "stdout"
        }
      ]
    },
    {
      "cell_type": "markdown",
      "metadata": {
        "id": "h0CQWwNEMlM9",
        "colab_type": "text"
      },
      "source": [
        "## **ROC curve**"
      ]
    },
    {
      "cell_type": "code",
      "metadata": {
        "id": "HSFrglYbMRST",
        "colab_type": "code",
        "colab": {
          "base_uri": "https://localhost:8080/",
          "height": 295
        },
        "outputId": "bf91cded-c4c8-4978-de41-5a81e6124c00"
      },
      "source": [
        "from sklearn.metrics import roc_curve\n",
        "fpr, tpr, thresholds = roc_curve(y_test, y_pred_prob_yes[:,1])\n",
        "plt.plot(fpr,tpr)\n",
        "plt.xlim([0.0, 1.0])\n",
        "plt.ylim([0.0, 1.0])\n",
        "plt.title('ROC curve for Heart disease classifier')\n",
        "plt.xlabel('False positive rate (1-Specificity)')\n",
        "plt.ylabel('True positive rate (Sensitivity)')\n",
        "plt.grid(True)"
      ],
      "execution_count": null,
      "outputs": [
        {
          "output_type": "display_data",
          "data": {
            "image/png": "[encoded data removed]",
            "text/plain": [
              "<Figure size 432x288 with 1 Axes>"
            ]
          },
          "metadata": {
            "tags": [],
            "needs_background": "light"
          }
        }
      ]
    },
    {
      "cell_type": "markdown",
      "metadata": {
        "id": "YsVviW2dM_Kp",
        "colab_type": "text"
      },
      "source": [
        "## **Area Under The Curve (AUC)**"
      ]
    },
    {
      "cell_type": "code",
      "metadata": {
        "id": "uqStNiSQNBWP",
        "colab_type": "code",
        "colab": {
          "base_uri": "https://localhost:8080/",
          "height": 34
        },
        "outputId": "fb5efcd6-cd07-4f7d-d4ab-63e98e27907a"
      },
      "source": [
        "sklearn.metrics.roc_auc_score(y_test,y_pred_prob_yes[:,1])"
      ],
      "execution_count": null,
      "outputs": [
        {
          "output_type": "execute_result",
          "data": {
            "text/plain": [
              "0.7106580720235178"
            ]
          },
          "metadata": {
            "tags": []
          },
          "execution_count": 63
        }
      ]
    },
    {
      "cell_type": "markdown",
      "metadata": {
        "id": "Wmmb91FPNWMd",
        "colab_type": "text"
      },
      "source": [
        "## **Conclusions:**\n",
        "- All attributes selected after the elimination process show P-values lower than 5% and thereby suggesting a significant role in the Heart disease prediction.\n",
        "\n",
        "- The current medical conditions had less influence than patients' medical history.\n",
        "\n",
        "- The model predicted with an accuracy of 0.86 and is more specific than sensitive.\n",
        "\n",
        "- The area under the ROC curve is 0.71 which is somewhat satisfactory.\n",
        "\n",
        "- The overall model could be improved with more data."
      ]
    }
  ]
}